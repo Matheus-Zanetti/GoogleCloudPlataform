{
 "cells": [
  {
   "cell_type": "markdown",
   "id": "0558da1a",
   "metadata": {},
   "source": [
    "## Envio de dados para o Google BigQuery via Python"
   ]
  },
  {
   "cell_type": "markdown",
   "id": "04f2bb7a",
   "metadata": {},
   "source": [
    "O banco de dados utilizado foi o de alugueis de apartamentos pelo Airbnb presente na plataforma da Kaggle."
   ]
  },
  {
   "cell_type": "markdown",
   "id": "cea2dbce",
   "metadata": {},
   "source": [
    "O intuito aqui é mostrar como é fácil enviar arquivos via python para a plataforma BigQuery"
   ]
  },
  {
   "cell_type": "code",
   "execution_count": 8,
   "id": "fa7e143c",
   "metadata": {},
   "outputs": [],
   "source": [
    "#Primeiro vamos importar as bibliotecas e o banco de dados\n",
    "import pandas as pd\n",
    "import pandas_gbq\n",
    "from google.oauth2 import service_account\n",
    "\n",
    "df = pd.read_csv(\"Projeto Airbnb NY/archive/AB_NYC_2019.csv\")"
   ]
  },
  {
   "cell_type": "markdown",
   "id": "aa99d387",
   "metadata": {},
   "source": [
    "O pandas vamos utilizar para carregar a base de dados, o pandas_gbq vamos usar para enviar os dados para o BigQuery e o google.oauth2 vamos usar para validar a autenticação que o google exige para que possamos fazer a conexão o nosso programa local."
   ]
  },
  {
   "cell_type": "code",
   "execution_count": 9,
   "id": "8001cf62",
   "metadata": {},
   "outputs": [
    {
     "data": {
      "text/html": [
       "<div>\n",
       "<style scoped>\n",
       "    .dataframe tbody tr th:only-of-type {\n",
       "        vertical-align: middle;\n",
       "    }\n",
       "\n",
       "    .dataframe tbody tr th {\n",
       "        vertical-align: top;\n",
       "    }\n",
       "\n",
       "    .dataframe thead th {\n",
       "        text-align: right;\n",
       "    }\n",
       "</style>\n",
       "<table border=\"1\" class=\"dataframe\">\n",
       "  <thead>\n",
       "    <tr style=\"text-align: right;\">\n",
       "      <th></th>\n",
       "      <th>id</th>\n",
       "      <th>name</th>\n",
       "      <th>host_id</th>\n",
       "      <th>host_name</th>\n",
       "      <th>neighbourhood_group</th>\n",
       "      <th>neighbourhood</th>\n",
       "      <th>latitude</th>\n",
       "      <th>longitude</th>\n",
       "      <th>room_type</th>\n",
       "      <th>price</th>\n",
       "      <th>minimum_nights</th>\n",
       "      <th>number_of_reviews</th>\n",
       "      <th>last_review</th>\n",
       "      <th>reviews_per_month</th>\n",
       "      <th>calculated_host_listings_count</th>\n",
       "      <th>availability_365</th>\n",
       "    </tr>\n",
       "  </thead>\n",
       "  <tbody>\n",
       "    <tr>\n",
       "      <th>0</th>\n",
       "      <td>2539</td>\n",
       "      <td>Clean &amp; quiet apt home by the park</td>\n",
       "      <td>2787</td>\n",
       "      <td>John</td>\n",
       "      <td>Brooklyn</td>\n",
       "      <td>Kensington</td>\n",
       "      <td>40.64749</td>\n",
       "      <td>-73.97237</td>\n",
       "      <td>Private room</td>\n",
       "      <td>149</td>\n",
       "      <td>1</td>\n",
       "      <td>9</td>\n",
       "      <td>2018-10-19</td>\n",
       "      <td>0.21</td>\n",
       "      <td>6</td>\n",
       "      <td>365</td>\n",
       "    </tr>\n",
       "    <tr>\n",
       "      <th>1</th>\n",
       "      <td>2595</td>\n",
       "      <td>Skylit Midtown Castle</td>\n",
       "      <td>2845</td>\n",
       "      <td>Jennifer</td>\n",
       "      <td>Manhattan</td>\n",
       "      <td>Midtown</td>\n",
       "      <td>40.75362</td>\n",
       "      <td>-73.98377</td>\n",
       "      <td>Entire home/apt</td>\n",
       "      <td>225</td>\n",
       "      <td>1</td>\n",
       "      <td>45</td>\n",
       "      <td>2019-05-21</td>\n",
       "      <td>0.38</td>\n",
       "      <td>2</td>\n",
       "      <td>355</td>\n",
       "    </tr>\n",
       "    <tr>\n",
       "      <th>2</th>\n",
       "      <td>3647</td>\n",
       "      <td>THE VILLAGE OF HARLEM....NEW YORK !</td>\n",
       "      <td>4632</td>\n",
       "      <td>Elisabeth</td>\n",
       "      <td>Manhattan</td>\n",
       "      <td>Harlem</td>\n",
       "      <td>40.80902</td>\n",
       "      <td>-73.94190</td>\n",
       "      <td>Private room</td>\n",
       "      <td>150</td>\n",
       "      <td>3</td>\n",
       "      <td>0</td>\n",
       "      <td>NaN</td>\n",
       "      <td>NaN</td>\n",
       "      <td>1</td>\n",
       "      <td>365</td>\n",
       "    </tr>\n",
       "    <tr>\n",
       "      <th>3</th>\n",
       "      <td>3831</td>\n",
       "      <td>Cozy Entire Floor of Brownstone</td>\n",
       "      <td>4869</td>\n",
       "      <td>LisaRoxanne</td>\n",
       "      <td>Brooklyn</td>\n",
       "      <td>Clinton Hill</td>\n",
       "      <td>40.68514</td>\n",
       "      <td>-73.95976</td>\n",
       "      <td>Entire home/apt</td>\n",
       "      <td>89</td>\n",
       "      <td>1</td>\n",
       "      <td>270</td>\n",
       "      <td>2019-07-05</td>\n",
       "      <td>4.64</td>\n",
       "      <td>1</td>\n",
       "      <td>194</td>\n",
       "    </tr>\n",
       "    <tr>\n",
       "      <th>4</th>\n",
       "      <td>5022</td>\n",
       "      <td>Entire Apt: Spacious Studio/Loft by central park</td>\n",
       "      <td>7192</td>\n",
       "      <td>Laura</td>\n",
       "      <td>Manhattan</td>\n",
       "      <td>East Harlem</td>\n",
       "      <td>40.79851</td>\n",
       "      <td>-73.94399</td>\n",
       "      <td>Entire home/apt</td>\n",
       "      <td>80</td>\n",
       "      <td>10</td>\n",
       "      <td>9</td>\n",
       "      <td>2018-11-19</td>\n",
       "      <td>0.10</td>\n",
       "      <td>1</td>\n",
       "      <td>0</td>\n",
       "    </tr>\n",
       "  </tbody>\n",
       "</table>\n",
       "</div>"
      ],
      "text/plain": [
       "     id                                              name  host_id  \\\n",
       "0  2539                Clean & quiet apt home by the park     2787   \n",
       "1  2595                             Skylit Midtown Castle     2845   \n",
       "2  3647               THE VILLAGE OF HARLEM....NEW YORK !     4632   \n",
       "3  3831                   Cozy Entire Floor of Brownstone     4869   \n",
       "4  5022  Entire Apt: Spacious Studio/Loft by central park     7192   \n",
       "\n",
       "     host_name neighbourhood_group neighbourhood  latitude  longitude  \\\n",
       "0         John            Brooklyn    Kensington  40.64749  -73.97237   \n",
       "1     Jennifer           Manhattan       Midtown  40.75362  -73.98377   \n",
       "2    Elisabeth           Manhattan        Harlem  40.80902  -73.94190   \n",
       "3  LisaRoxanne            Brooklyn  Clinton Hill  40.68514  -73.95976   \n",
       "4        Laura           Manhattan   East Harlem  40.79851  -73.94399   \n",
       "\n",
       "         room_type  price  minimum_nights  number_of_reviews last_review  \\\n",
       "0     Private room    149               1                  9  2018-10-19   \n",
       "1  Entire home/apt    225               1                 45  2019-05-21   \n",
       "2     Private room    150               3                  0         NaN   \n",
       "3  Entire home/apt     89               1                270  2019-07-05   \n",
       "4  Entire home/apt     80              10                  9  2018-11-19   \n",
       "\n",
       "   reviews_per_month  calculated_host_listings_count  availability_365  \n",
       "0               0.21                               6               365  \n",
       "1               0.38                               2               355  \n",
       "2                NaN                               1               365  \n",
       "3               4.64                               1               194  \n",
       "4               0.10                               1                 0  "
      ]
     },
     "execution_count": 9,
     "metadata": {},
     "output_type": "execute_result"
    }
   ],
   "source": [
    "#Verificando a base de dados\n",
    "df.head(5)"
   ]
  },
  {
   "cell_type": "markdown",
   "id": "b825a72b",
   "metadata": {},
   "source": [
    "Para que possamos realizar a conexão com o Google Cloud precisamos das credenciais que o mesmo disponibiliza.\n",
    "Então dentro do Google Cloud devemos baixar o arquivo JSON que vai servir como chave para que o nosso banco de dados possa entrar na plataforma."
   ]
  },
  {
   "cell_type": "markdown",
   "id": "2354c8d9",
   "metadata": {},
   "source": [
    "Nesse exemplo salvei o arquivo como GCP.json e coloquei na mesma pasta do nosso script"
   ]
  },
  {
   "cell_type": "code",
   "execution_count": 15,
   "id": "81857829",
   "metadata": {},
   "outputs": [],
   "source": [
    "#Especificando a nossa chave json para conexão e criando a credencial\n",
    "key_path = \"GCP.json\"\n",
    "\n",
    "credentials = service_account.Credentials.from_service_account_file(key_path, \n",
    "                             scopes = 'http://www.googleapis.com/auth/coud-plataform')"
   ]
  },
  {
   "cell_type": "code",
   "execution_count": 16,
   "id": "3cc69e56",
   "metadata": {
    "scrolled": true
   },
   "outputs": [
    {
     "name": "stdout",
     "output_type": "stream",
     "text": [
      "Please visit this URL to authorize this application: https://accounts.google.com/o/oauth2/auth?response_type=code&client_id=725825577420-unm2gnkiprugilg743tkbig250f4sfsj.apps.googleusercontent.com&redirect_uri=http%3A%2F%2Flocalhost%3A8080%2F&scope=https%3A%2F%2Fwww.googleapis.com%2Fauth%2Fbigquery&state=pdG56DsZspUUU8XAtuuLGPO8OfifpK&access_type=offline\n"
     ]
    },
    {
     "name": "stderr",
     "output_type": "stream",
     "text": [
      "100%|████████████████████████████████████████████████████████████████████████████████████████████| 1/1 [00:00<?, ?it/s]\n"
     ]
    }
   ],
   "source": [
    "#Enviando o arquivo para a pasta \"unificado\" dentro do meu projeto no BigQuery\n",
    "pandas_gbq.to_gbq(df, 'unificados.airbnbny', \n",
    "                  project_id = \"projeto1-350801\",\n",
    "                  if_exists='replace')"
   ]
  },
  {
   "cell_type": "markdown",
   "id": "4f8e0561",
   "metadata": {},
   "source": [
    "Ao rodar o código acima será solicitado o login na sua conta Google.\n",
    "Após a autenticação na conta do google o arquivo será enviado para o Bigquery"
   ]
  },
  {
   "cell_type": "markdown",
   "id": "35a9debd",
   "metadata": {},
   "source": [
    "Agora vamos fazer a leitura desses dados no Bigquery via python"
   ]
  },
  {
   "cell_type": "code",
   "execution_count": 32,
   "id": "f0f568dc",
   "metadata": {},
   "outputs": [
    {
     "name": "stderr",
     "output_type": "stream",
     "text": [
      "Downloading: 100%|███████████████████████████████████████████████████████████| 48895/48895 [00:20<00:00, 2349.92rows/s]\n"
     ]
    }
   ],
   "source": [
    "#Para a leitura desses dados só precisamos passar o local do arquivo dentro do comando abaixo\n",
    "#Como já realizamos as autenticações não precisamos criar as credenciais novamente\n",
    "dados_gbq = pandas_gbq.read_gbq(\"projeto1-350801.unificados.airbnbny\")"
   ]
  },
  {
   "cell_type": "code",
   "execution_count": 33,
   "id": "506fe9c2",
   "metadata": {},
   "outputs": [
    {
     "data": {
      "text/html": [
       "<div>\n",
       "<style scoped>\n",
       "    .dataframe tbody tr th:only-of-type {\n",
       "        vertical-align: middle;\n",
       "    }\n",
       "\n",
       "    .dataframe tbody tr th {\n",
       "        vertical-align: top;\n",
       "    }\n",
       "\n",
       "    .dataframe thead th {\n",
       "        text-align: right;\n",
       "    }\n",
       "</style>\n",
       "<table border=\"1\" class=\"dataframe\">\n",
       "  <thead>\n",
       "    <tr style=\"text-align: right;\">\n",
       "      <th></th>\n",
       "      <th>id</th>\n",
       "      <th>name</th>\n",
       "      <th>host_id</th>\n",
       "      <th>host_name</th>\n",
       "      <th>neighbourhood_group</th>\n",
       "      <th>neighbourhood</th>\n",
       "      <th>latitude</th>\n",
       "      <th>longitude</th>\n",
       "      <th>room_type</th>\n",
       "      <th>price</th>\n",
       "      <th>minimum_nights</th>\n",
       "      <th>number_of_reviews</th>\n",
       "      <th>last_review</th>\n",
       "      <th>reviews_per_month</th>\n",
       "      <th>calculated_host_listings_count</th>\n",
       "      <th>availability_365</th>\n",
       "    </tr>\n",
       "  </thead>\n",
       "  <tbody>\n",
       "    <tr>\n",
       "      <th>0</th>\n",
       "      <td>55668</td>\n",
       "      <td>NOHO/EAST VILLAGE, PRIVATE 1/2 BATH</td>\n",
       "      <td>88209</td>\n",
       "      <td>Jason</td>\n",
       "      <td>Manhattan</td>\n",
       "      <td>NoHo</td>\n",
       "      <td>40.72773</td>\n",
       "      <td>-73.99134</td>\n",
       "      <td>Private room</td>\n",
       "      <td>130</td>\n",
       "      <td>2</td>\n",
       "      <td>115</td>\n",
       "      <td>2018-12-05</td>\n",
       "      <td>1.17</td>\n",
       "      <td>1</td>\n",
       "      <td>75</td>\n",
       "    </tr>\n",
       "    <tr>\n",
       "      <th>1</th>\n",
       "      <td>803778</td>\n",
       "      <td>Luxury Loft Noho New York City</td>\n",
       "      <td>4230317</td>\n",
       "      <td>Jenny</td>\n",
       "      <td>Manhattan</td>\n",
       "      <td>NoHo</td>\n",
       "      <td>40.72591</td>\n",
       "      <td>-73.99452</td>\n",
       "      <td>Entire home/apt</td>\n",
       "      <td>465</td>\n",
       "      <td>30</td>\n",
       "      <td>47</td>\n",
       "      <td>2019-05-31</td>\n",
       "      <td>0.67</td>\n",
       "      <td>1</td>\n",
       "      <td>277</td>\n",
       "    </tr>\n",
       "    <tr>\n",
       "      <th>2</th>\n",
       "      <td>1818411</td>\n",
       "      <td>HUGE 2bdrm LOFT in NOHO/East Vill!</td>\n",
       "      <td>9522475</td>\n",
       "      <td>Liam</td>\n",
       "      <td>Manhattan</td>\n",
       "      <td>NoHo</td>\n",
       "      <td>40.72569</td>\n",
       "      <td>-73.99227</td>\n",
       "      <td>Entire home/apt</td>\n",
       "      <td>455</td>\n",
       "      <td>30</td>\n",
       "      <td>93</td>\n",
       "      <td>2019-01-03</td>\n",
       "      <td>1.36</td>\n",
       "      <td>2</td>\n",
       "      <td>332</td>\n",
       "    </tr>\n",
       "    <tr>\n",
       "      <th>3</th>\n",
       "      <td>2201154</td>\n",
       "      <td>Prime E. Village at St. Marks Place</td>\n",
       "      <td>5081260</td>\n",
       "      <td>Eden</td>\n",
       "      <td>Manhattan</td>\n",
       "      <td>NoHo</td>\n",
       "      <td>40.72780</td>\n",
       "      <td>-73.99205</td>\n",
       "      <td>Private room</td>\n",
       "      <td>208</td>\n",
       "      <td>2</td>\n",
       "      <td>38</td>\n",
       "      <td>2019-06-18</td>\n",
       "      <td>0.60</td>\n",
       "      <td>1</td>\n",
       "      <td>313</td>\n",
       "    </tr>\n",
       "    <tr>\n",
       "      <th>4</th>\n",
       "      <td>6747685</td>\n",
       "      <td>Beautiful 1205 ft classic NoHo Loft</td>\n",
       "      <td>29769754</td>\n",
       "      <td>Tom</td>\n",
       "      <td>Manhattan</td>\n",
       "      <td>NoHo</td>\n",
       "      <td>40.72590</td>\n",
       "      <td>-73.99390</td>\n",
       "      <td>Entire home/apt</td>\n",
       "      <td>499</td>\n",
       "      <td>3</td>\n",
       "      <td>35</td>\n",
       "      <td>2019-05-27</td>\n",
       "      <td>0.72</td>\n",
       "      <td>1</td>\n",
       "      <td>223</td>\n",
       "    </tr>\n",
       "  </tbody>\n",
       "</table>\n",
       "</div>"
      ],
      "text/plain": [
       "        id                                 name   host_id host_name  \\\n",
       "0    55668  NOHO/EAST VILLAGE, PRIVATE 1/2 BATH     88209     Jason   \n",
       "1   803778       Luxury Loft Noho New York City   4230317     Jenny   \n",
       "2  1818411   HUGE 2bdrm LOFT in NOHO/East Vill!   9522475      Liam   \n",
       "3  2201154  Prime E. Village at St. Marks Place   5081260      Eden   \n",
       "4  6747685  Beautiful 1205 ft classic NoHo Loft  29769754       Tom   \n",
       "\n",
       "  neighbourhood_group neighbourhood  latitude  longitude        room_type  \\\n",
       "0           Manhattan          NoHo  40.72773  -73.99134     Private room   \n",
       "1           Manhattan          NoHo  40.72591  -73.99452  Entire home/apt   \n",
       "2           Manhattan          NoHo  40.72569  -73.99227  Entire home/apt   \n",
       "3           Manhattan          NoHo  40.72780  -73.99205     Private room   \n",
       "4           Manhattan          NoHo  40.72590  -73.99390  Entire home/apt   \n",
       "\n",
       "   price  minimum_nights  number_of_reviews last_review  reviews_per_month  \\\n",
       "0    130               2                115  2018-12-05               1.17   \n",
       "1    465              30                 47  2019-05-31               0.67   \n",
       "2    455              30                 93  2019-01-03               1.36   \n",
       "3    208               2                 38  2019-06-18               0.60   \n",
       "4    499               3                 35  2019-05-27               0.72   \n",
       "\n",
       "   calculated_host_listings_count  availability_365  \n",
       "0                               1                75  \n",
       "1                               1               277  \n",
       "2                               2               332  \n",
       "3                               1               313  \n",
       "4                               1               223  "
      ]
     },
     "execution_count": 33,
     "metadata": {},
     "output_type": "execute_result"
    }
   ],
   "source": [
    "dados_gbq.head()"
   ]
  }
 ],
 "metadata": {
  "kernelspec": {
   "display_name": "Python 3 (ipykernel)",
   "language": "python",
   "name": "python3"
  },
  "language_info": {
   "codemirror_mode": {
    "name": "ipython",
    "version": 3
   },
   "file_extension": ".py",
   "mimetype": "text/x-python",
   "name": "python",
   "nbconvert_exporter": "python",
   "pygments_lexer": "ipython3",
   "version": "3.9.7"
  },
  "toc": {
   "base_numbering": 1,
   "nav_menu": {},
   "number_sections": true,
   "sideBar": true,
   "skip_h1_title": false,
   "title_cell": "Table of Contents",
   "title_sidebar": "Contents",
   "toc_cell": false,
   "toc_position": {},
   "toc_section_display": true,
   "toc_window_display": false
  },
  "varInspector": {
   "cols": {
    "lenName": 16,
    "lenType": 16,
    "lenVar": 40
   },
   "kernels_config": {
    "python": {
     "delete_cmd_postfix": "",
     "delete_cmd_prefix": "del ",
     "library": "var_list.py",
     "varRefreshCmd": "print(var_dic_list())"
    },
    "r": {
     "delete_cmd_postfix": ") ",
     "delete_cmd_prefix": "rm(",
     "library": "var_list.r",
     "varRefreshCmd": "cat(var_dic_list()) "
    }
   },
   "types_to_exclude": [
    "module",
    "function",
    "builtin_function_or_method",
    "instance",
    "_Feature"
   ],
   "window_display": false
  }
 },
 "nbformat": 4,
 "nbformat_minor": 5
}
